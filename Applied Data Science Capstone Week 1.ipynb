{
 "cells": [
  {
   "cell_type": "markdown",
   "metadata": {},
   "source": [
    "# [Peer-graded Assignment: Setting up Github Account for The Project](https://www.coursera.org/learn/applied-data-science-capstone/peer/fpx1O/setting-up-github-account-for-the-project/review/3DEHQBTsEeuzBxJ59PKU2Q)"
   ]
  },
  {
   "cell_type": "markdown",
   "metadata": {},
   "source": [
    "## My First Peer-graded Assignment of Applied Data Science Capstone\n",
    "\n",
    "Submitted on October 23, 2020"
   ]
  },
  {
   "cell_type": "markdown",
   "metadata": {},
   "source": [
    "\n",
    "\n",
    "1 . Write some markdown to explain that this notebook will be mainly used for the capstone project.\n"
   ]
  },
  {
   "cell_type": "markdown",
   "metadata": {},
   "source": [
    "```\n",
    "This notebook will be mainly used for the Applied Data Science Capstone project.\n",
    "This is the First Peer-graded Assignment of Applied Data Science Capstone of mine in week 1.\n",
    "```"
   ]
  },
  {
   "cell_type": "markdown",
   "metadata": {},
   "source": [
    "\n",
    "2 . Import the pandas library as pd.\n"
   ]
  },
  {
   "cell_type": "code",
   "execution_count": 1,
   "metadata": {},
   "outputs": [],
   "source": [
    "import pandas as pd"
   ]
  },
  {
   "cell_type": "markdown",
   "metadata": {},
   "source": [
    "\n",
    "3 . Import the Numpy library as np.\n"
   ]
  },
  {
   "cell_type": "code",
   "execution_count": 2,
   "metadata": {},
   "outputs": [],
   "source": [
    "import numpy as np"
   ]
  },
  {
   "cell_type": "markdown",
   "metadata": {},
   "source": [
    "\n",
    "4 . Print the following the statement: Hello Capstone Project Course!\n"
   ]
  },
  {
   "cell_type": "code",
   "execution_count": 3,
   "metadata": {},
   "outputs": [
    {
     "name": "stdout",
     "output_type": "stream",
     "text": [
      "Hello Capstone Project Course!\n"
     ]
    }
   ],
   "source": [
    "print(\"Hello Capstone Project Course!\")"
   ]
  },
  {
   "cell_type": "markdown",
   "metadata": {},
   "source": [
    "Push the Notebook to your Github repository and submit a link to the notebook on your Github repository."
   ]
  },
  {
   "cell_type": "markdown",
   "metadata": {},
   "source": [
    "This is the link to the notebook: [https://github.com/kunaldas926/Coursera_Capstone/blob/main/Week%201/Applied%20Data%20Science%20Capstone%20Week%201.ipynb](https://github.com/kunaldas926/Coursera_Capstone/blob/main/Week%201/Applied%20Data%20Science%20Capstone%20Week%201.ipynb)."
   ]
  },
  {
   "cell_type": "markdown",
   "metadata": {},
   "source": [
    "I, [Kunal Das](https://www.coursera.org/user/f80c74521e1c6f49c000e4804f44f641), understand that submitting work that isn’t my own may result in permanent failure of this course or deactivation of my Coursera account."
   ]
  }
 ],
 "metadata": {
  "kernelspec": {
   "display_name": "Python 3",
   "language": "python",
   "name": "python3"
  },
  "language_info": {
   "codemirror_mode": {
    "name": "ipython",
    "version": 3
   },
   "file_extension": ".py",
   "mimetype": "text/x-python",
   "name": "python",
   "nbconvert_exporter": "python",
   "pygments_lexer": "ipython3",
   "version": "3.8.3"
  }
 },
 "nbformat": 4,
 "nbformat_minor": 4
}
